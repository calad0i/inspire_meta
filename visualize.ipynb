{
 "cells": [
  {
   "cell_type": "code",
   "execution_count": 1,
   "metadata": {},
   "outputs": [],
   "source": [
    "import numpy as np\n",
    "import matplotlib.pyplot as plt\n",
    "import pandas as pd\n",
    "import mplhep as hep\n",
    "from io import BytesIO\n",
    "import zstd\n",
    "\n",
    "from datetime import datetime\n",
    "import mplhep as hep\n",
    "\n",
    "import os\n",
    "hep.style.use(hep.style.CMS)\n",
    "from typing import Callable\n",
    "from matplotlib.colors import LogNorm"
   ]
  },
  {
   "cell_type": "code",
   "execution_count": 2,
   "metadata": {},
   "outputs": [],
   "source": [
    "with open('data.pkl.zst', 'rb') as f:\n",
    "    df:pd.DataFrame = pd.read_pickle(BytesIO(zstd.decompress(f.read())))"
   ]
  },
  {
   "cell_type": "code",
   "execution_count": 3,
   "metadata": {},
   "outputs": [],
   "source": [
    "def filter_df(df:pd.DataFrame, fn):\n",
    "    mask = np.empty(len(df), dtype=np.bool_)\n",
    "    for i, row in enumerate(df.itertuples()):\n",
    "        mask[i] = fn(row)\n",
    "    return df.iloc[mask]"
   ]
  },
  {
   "cell_type": "code",
   "execution_count": 4,
   "metadata": {},
   "outputs": [],
   "source": [
    "# fdf = filter_df(df, lambda row: 'Experiment-HEP' in row.inspire_categories and row.earliest_date.year > 10)"
   ]
  },
  {
   "cell_type": "code",
   "execution_count": 5,
   "metadata": {},
   "outputs": [],
   "source": [
    "subjects = [\"Experiment-HEP\", \"Phenomenology-HEP\", \"Experiment-Nucl\", \"Instrumentation\", \"Theory-Nucl\", \"Astrophysics\", \"Lattice\", \"Theory-HEP\", \"Other\", \"General Physics\", \"Computing\", \"Accelerators\", \"Data Analysis and Statistics\", \"Gravitation and Cosmology\", \"Quantum Physics\", \"Condensed Matter\", \"Math and Math Physics\"]\n",
    "\n",
    "document_types = [\"published\", \"article\", \"conference paper\", \"review\", \"introductory\", \"lectures\", \"book chapter\", \"note\", \"thesis\", \"book\", \"report\", \"proceedings\"]\n"
   ]
  },
  {
   "cell_type": "code",
   "execution_count": 6,
   "metadata": {},
   "outputs": [],
   "source": [
    "# all_dois = set()\n",
    "# mask = np.zeros(len(df), dtype=np.bool_)\n",
    "# for i, row in enumerate(df.itertuples()):\n",
    "#     dois = row.dois\n",
    "#     has_doi = False #or 'thesis' in row.document_type\n",
    "#     for doi in dois:\n",
    "#         has_doi = True\n",
    "#         if dois in all_dois:\n",
    "#             break\n",
    "#         all_dois.add(doi)\n",
    "#     else:\n",
    "#         mask[i] = has_doi\n",
    "# fdf = df.iloc[mask]\n",
    "\n",
    "# len(fdf)"
   ]
  },
  {
   "cell_type": "code",
   "execution_count": 7,
   "metadata": {},
   "outputs": [
    {
     "data": {
      "text/plain": [
       "822779"
      ]
     },
     "execution_count": 7,
     "metadata": {},
     "output_type": "execute_result"
    }
   ],
   "source": [
    "fdf = filter_df(df, lambda row: row.earliest_date.year > 1500)\n",
    "len(fdf)"
   ]
  },
  {
   "cell_type": "code",
   "execution_count": 8,
   "metadata": {},
   "outputs": [],
   "source": [
    "y0, y1 = np.min(df.earliest_date).year, datetime.now().year\n",
    "cnt = y1 - y0 + 1"
   ]
  },
  {
   "cell_type": "code",
   "execution_count": 9,
   "metadata": {},
   "outputs": [
    {
     "data": {
      "text/plain": [
       "488"
      ]
     },
     "execution_count": 9,
     "metadata": {},
     "output_type": "execute_result"
    }
   ],
   "source": [
    "len(filter_df(df, lambda row: row.earliest_date.year == 2020 and 'thesis' in row.document_type and 'Experiment-HEP' in row.inspire_categories))"
   ]
  },
  {
   "cell_type": "code",
   "execution_count": 10,
   "metadata": {},
   "outputs": [
    {
     "name": "stderr",
     "output_type": "stream",
     "text": [
      "  0%|          | 0/17 [00:00<?, ?it/s]"
     ]
    },
    {
     "name": "stderr",
     "output_type": "stream",
     "text": [
      "100%|██████████| 17/17 [00:39<00:00,  2.33s/it]\n"
     ]
    }
   ],
   "source": [
    "from tqdm import tqdm\n",
    "columns = []\n",
    "df_arr = [[] for _ in range(len(subjects))]\n",
    "for i,subject in enumerate(tqdm(subjects)):\n",
    "    _fdf = filter_df(fdf, lambda row: subject in row.inspire_categories)\n",
    "    thesis_mask = np.array(_fdf.document_type == {'thesis'})\n",
    "    df_thesis = _fdf.iloc[thesis_mask]\n",
    "    df_others = _fdf.iloc[~thesis_mask]\n",
    "    df_arr[i] = [df_thesis, df_others]\n",
    "    columns.append((subject, 'thesis'))\n",
    "    columns.append((subject, 'others'))\n",
    "    # break"
   ]
  },
  {
   "cell_type": "code",
   "execution_count": 11,
   "metadata": {},
   "outputs": [
    {
     "name": "stderr",
     "output_type": "stream",
     "text": [
      "100%|██████████| 17/17 [00:00<00:00, 23.80it/s]\n",
      "100%|██████████| 17/17 [00:02<00:00,  5.91it/s]\n",
      "100%|██████████| 17/17 [00:01<00:00, 10.94it/s]\n",
      "100%|██████████| 17/17 [00:02<00:00,  5.97it/s]\n",
      "100%|██████████| 17/17 [00:00<00:00, 88.84it/s]\n",
      "100%|██████████| 17/17 [00:02<00:00,  6.01it/s]\n",
      "100%|██████████| 17/17 [00:00<00:00, 168.85it/s]\n",
      "100%|██████████| 17/17 [00:02<00:00,  6.44it/s]\n",
      "100%|██████████| 17/17 [00:00<00:00, 347.07it/s]\n",
      "100%|██████████| 17/17 [00:02<00:00,  6.92it/s]\n"
     ]
    }
   ],
   "source": [
    "\n",
    "for cut in [0,10,50,100,500]:\n",
    "\n",
    "    master_arr = np.zeros((len(subjects), 2, cnt), dtype=np.int32)\n",
    "    for i,subject in enumerate(tqdm(subjects)):\n",
    "        df_thesis, df_others = df_arr[i]\n",
    "        df_others = df_others.query(f'citation_count >= {cut}')\n",
    "        years_thesis = np.array([x.year for x in df_thesis.earliest_date])\n",
    "        years_others = np.array([x.year for x in df_others.earliest_date])\n",
    "\n",
    "        years_thesis = years_thesis\n",
    "        years_others = years_others\n",
    "\n",
    "        loc_t, v_t = np.unique(years_thesis, return_counts=True)\n",
    "        loc_o, v_o = np.unique(years_others, return_counts=True)\n",
    "        if len(loc_t):\n",
    "            master_arr[i, 0][loc_t-y0] = v_t\n",
    "        if len(loc_o):\n",
    "            master_arr[i, 1][loc_o-y0] = v_o\n",
    "\n",
    "\n",
    "    _master_arr = master_arr.reshape(len(subjects)*2,-1).T\n",
    "    columns = columns = pd.MultiIndex.from_tuples(columns)\n",
    "    df_len = pd.DataFrame(data=_master_arr, columns=columns, index=np.arange(y0,y1+1))\n",
    "\n",
    "    # for subject in tqdm(subjects):\n",
    "    #     print(f\"{subject:30}: {df_len[subject]['others'].sum()/df_len[subject]['thesis'].sum():02.2f}\")\n",
    "\n",
    "    os.makedirs(f'/tmp/inspire/{cut}', exist_ok=True)\n",
    "\n",
    "    for subject in tqdm(subjects):\n",
    "        fig,ax = plt.subplots()\n",
    "        ax:plt.Axes # type: ignore\n",
    "        ax.set(xlabel='Year', ylabel='Number of publications', title=subject)\n",
    "        ax.plot(df_len.index, np.array(df_len[subject]['thesis']),'o',ls='--', label='Thesis')\n",
    "        ax.plot(df_len.index, np.array(df_len[subject]['others']),'o',ls='--', label='Publication (>15 citations)')\n",
    "        ax.set_xlim(1950,None)\n",
    "        # ax.legend(loc='upper left')\n",
    "        # ax.legend(loc='lower right')\n",
    "        # ax.set_yscale('log')\n",
    "        fig.savefig(f'/tmp/inspire/{cut}/{subject}.png', bbox_inches='tight')\n",
    "        plt.close()"
   ]
  },
  {
   "cell_type": "code",
   "execution_count": 12,
   "metadata": {},
   "outputs": [
    {
     "name": "stderr",
     "output_type": "stream",
     "text": [
      "100%|██████████| 17/17 [00:06<00:00,  2.62it/s]\n"
     ]
    }
   ],
   "source": [
    "norm = LogNorm()\n",
    "\n",
    "for i,subject in enumerate(tqdm(subjects)):\n",
    "    _, df_others = df_arr[i]\n",
    "    years = np.array([x.year for x in df_others.earliest_date])\n",
    "    loc, idx = np.unique(years, return_inverse=True)\n",
    "    citations = np.array(df_others.citation_count)\n",
    "    fig,ax = plt.subplots()\n",
    "    ax:plt.Axes # type: ignore\n",
    "    high = int(np.percentile(citations, 99))+1\n",
    "    img = ax.hist2d(years, citations, bins=(np.arange(1950,2023),np.arange(0,high,high//100)), norm=norm)\n",
    "    ax.set(xlabel='Year', ylabel='Citations')\n",
    "    fig.colorbar(img[-1], ax=ax)\n",
    "    plt.savefig(f'/tmp/inspire/{subject}_citation.png', bbox_inches='tight')\n",
    "    plt.close()\n"
   ]
  },
  {
   "cell_type": "code",
   "execution_count": 13,
   "metadata": {},
   "outputs": [
    {
     "name": "stderr",
     "output_type": "stream",
     "text": [
      "100%|██████████| 17/17 [00:05<00:00,  2.90it/s]\n"
     ]
    }
   ],
   "source": [
    "for i,subject in enumerate(tqdm(subjects)):\n",
    "    df_thesis, df_others = df_arr[i]\n",
    "    citations = np.array(df_others.citation_count)\n",
    "    c,n = np.unique(citations, return_counts=True)\n",
    "    n = np.cumsum(n[::-1])[::-1]\n",
    "    n = n/len(df_thesis)\n",
    "\n",
    "    fig,ax = plt.subplots()\n",
    "    ax:plt.Axes # type: ignore\n",
    "    ax.step(c,n)\n",
    "    ax.set(xlabel='Citation Cutoff', ylabel='Ratio to Thesis', yscale='log', xscale='log')\n",
    "    plt.savefig(f'/tmp/inspire/{subject}_ratio.png', bbox_inches='tight')\n",
    "    plt.close()\n"
   ]
  }
 ],
 "metadata": {
  "kernelspec": {
   "display_name": "transformers",
   "language": "python",
   "name": "python3"
  },
  "language_info": {
   "codemirror_mode": {
    "name": "ipython",
    "version": 3
   },
   "file_extension": ".py",
   "mimetype": "text/x-python",
   "name": "python",
   "nbconvert_exporter": "python",
   "pygments_lexer": "ipython3",
   "version": "3.11.6"
  }
 },
 "nbformat": 4,
 "nbformat_minor": 2
}
