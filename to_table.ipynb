{
 "cells": [
  {
   "cell_type": "code",
   "execution_count": 1,
   "metadata": {},
   "outputs": [],
   "source": [
    "import zstd\n",
    "import json\n",
    "import pandas as pd\n",
    "from tqdm import tqdm\n",
    "from glob import glob\n",
    "\n",
    "from datetime import datetime"
   ]
  },
  {
   "cell_type": "code",
   "execution_count": 2,
   "metadata": {},
   "outputs": [],
   "source": [
    "def field_to(field:str, to:str, X:dict):\n",
    "    d = X.get(field, [])\n",
    "    X[field] = [x[to] for x in d if to in x]\n",
    "\n",
    "def xfm(m:dict):\n",
    "    m = m.copy()\n",
    "    field_to('dois', 'value', m)\n",
    "    return m\n",
    "\n",
    "\n",
    "schema = {\n",
    "    'control_number': int,\n",
    "    'report_numbers': set,\n",
    "    'journal_title_variants': set,\n",
    "    'citation_count': int,\n",
    "    'citation_count_without_self_citations': int,\n",
    "    'author_count': int,\n",
    "    'keywords': set,\n",
    "    'titles': set,\n",
    "    'dois': set,\n",
    "    'inspire_categories': set,\n",
    "    'document_type': set,\n",
    "    'earliest_date': datetime,\n",
    "    'published': bool,\n",
    "    'citeable': bool,\n",
    "}\n",
    "\n",
    "def minimize(m:dict):\n",
    "    r = {}\n",
    "    for k,v in schema.items():\n",
    "        if k == 'earliest_date':\n",
    "            value = m.get('earliest_date', '0001-01-01')\n",
    "            if len(value) == 4:\n",
    "                value = value + '-01-01'\n",
    "            if len(value) == 7:\n",
    "                value = value + '-01'\n",
    "            value = datetime.strptime(value, '%Y-%m-%d')\n",
    "            r[k] = value\n",
    "            continue\n",
    "        value = m.get(k, v())\n",
    "        if isinstance(value, list):\n",
    "            # value = [x.replace('<sp>', '') for x in value]\n",
    "            # value = f\"<sp>{'<sp>'.join(value)}<sp>\"\n",
    "            value = set(value)\n",
    "        r[k] = value\n",
    "    return r\n",
    "\n",
    "subjects = [\"Experiment-HEP\", \"Phenomenology-HEP\", \"Experiment-Nucl\", \"Instrumentation\", \"Theory-Nucl\", \"Astrophysics\", \"Lattice\", \"Theory-HEP\", \"Other\", \"General Physics\", \"Computing\", \"Accelerators\", \"Data Analysis and Statistics\", \"Gravitation and Cosmology\", \"Quantum Physics\", \"Condensed Matter\", \"Math and Math Physics\"]"
   ]
  },
  {
   "cell_type": "code",
   "execution_count": 3,
   "metadata": {},
   "outputs": [
    {
     "name": "stderr",
     "output_type": "stream",
     "text": [
      "Loading 6.json.zst: 100%|██████████| 102/102 [01:11<00:00,  1.42it/s]\n"
     ]
    }
   ],
   "source": [
    "fnames = glob('../../../data/inspirehep/*/*.json.zst')\n",
    "master_index = {}\n",
    "with tqdm(total=len(fnames)) as pbar:\n",
    "    for fname in fnames:\n",
    "        pbar.set_description(f'Loading {fname.split(\"/\")[-1]}')\n",
    "        with open(fname, 'rb') as f:\n",
    "            d = json.loads(zstd.loads(f.read()).decode('utf-8'))\n",
    "        for m in d:\n",
    "            mm = xfm(m)\n",
    "            mm = minimize(mm)\n",
    "            control_number = mm['control_number']\n",
    "            if control_number not in master_index:\n",
    "                master_index[control_number] = mm\n",
    "        pbar.update(1)\n"
   ]
  },
  {
   "cell_type": "code",
   "execution_count": 4,
   "metadata": {},
   "outputs": [],
   "source": [
    "keys = next(master_index.values().__iter__()).keys()\n",
    "df = pd.DataFrame.from_records(list(master_index.values()), columns=keys, index='control_number')"
   ]
  },
  {
   "cell_type": "code",
   "execution_count": null,
   "metadata": {},
   "outputs": [],
   "source": [
    "from io import BytesIO\n",
    "buf = BytesIO()\n",
    "with open('data.pkl.zst', 'wb') as f:\n",
    "    df.to_pickle(buf)\n",
    "    f.write(zstd.dumps(buf.getvalue()))"
   ]
  },
  {
   "cell_type": "code",
   "execution_count": null,
   "metadata": {},
   "outputs": [],
   "source": []
  }
 ],
 "metadata": {
  "kernelspec": {
   "display_name": "transformers",
   "language": "python",
   "name": "python3"
  },
  "language_info": {
   "codemirror_mode": {
    "name": "ipython",
    "version": 3
   },
   "file_extension": ".py",
   "mimetype": "text/x-python",
   "name": "python",
   "nbconvert_exporter": "python",
   "pygments_lexer": "ipython3",
   "version": "3.11.6"
  }
 },
 "nbformat": 4,
 "nbformat_minor": 2
}
